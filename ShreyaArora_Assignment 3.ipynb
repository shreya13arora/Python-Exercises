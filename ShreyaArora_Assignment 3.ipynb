{
 "cells": [
  {
   "cell_type": "markdown",
   "metadata": {},
   "source": [
    "# Assignment 3"
   ]
  },
  {
   "cell_type": "markdown",
   "metadata": {},
   "source": [
    "### 1. WAP that will accept two sets of numbers and calculate the Pearson’s correlation coefficient between them."
   ]
  },
  {
   "cell_type": "code",
   "execution_count": 3,
   "metadata": {},
   "outputs": [
    {
     "name": "stdout",
     "output_type": "stream",
     "text": [
      "n= 5\n",
      "Sigmaxy= 130\n",
      "Sigmax= 15\n",
      "Sigmay= 40\n",
      "Sigma x square= 55\n",
      "(Sigmax)^2= 225\n",
      "Sigma y square= 330\n",
      "(Sigmay)^2 1600\n",
      "Numerator= 50\n",
      "Denominator= 50.0\n",
      "Pearson's Correlation Co-efficient= r= 1.0\n"
     ]
    }
   ],
   "source": [
    "x= [1, 2, 3, 4, 5]\n",
    "y= [6, 7, 8, 9, 10]\n",
    "\n",
    "sum1_xy=0 #initialize sigma(xy)=0\n",
    "sum1_x=0 #initialize sigma(x)=0\n",
    "sum1_y=0 #initialize sigma(y)=0\n",
    "sigmasq_x=0 #initialize sigma(x^2)=0\n",
    "sigmasq_y=0 #initialize sigma(y^2)=0\n",
    "\n",
    "for i in range(0,len(x)):  #iteration for elements from index 0 to 5 in list x & y\n",
    "    sum1_xy+= x[i]*y[i] #sum(xy) = sum(xy) + x[i]y[i]\n",
    "    sum1_x+= x[i]   #sum(x) = sum(x) + x[i]\n",
    "    sum1_y+= y[i]   #sum(y) = sum(y) + y[i]\n",
    "    sigmasq_x+= x[i]**2   #sigma(x^2) = x[i]^2\n",
    "    sigmasq_y+= y[i]**2   #sigma(y^2) = y[i]^2\n",
    "    \n",
    "\n",
    "    #check each term of numerator:\n",
    "print(\"n=\",len(x))\n",
    "print(\"Sigmaxy=\",sum1_xy)\n",
    "print(\"Sigmax=\",sum1_x)\n",
    "print(\"Sigmay=\",sum1_y)\n",
    "#denominator:\n",
    "print(\"Sigma x square=\",sigmasq_x)\n",
    "print(\"(Sigmax)^2=\",sum1_x**2)\n",
    "print(\"Sigma y square=\",sigmasq_y)\n",
    "print(\"(Sigmay)^2\",sum1_y**2)\n",
    "\n",
    "numerator = (len(x)*sum1_xy) - (sum1_x * sum1_y) #numerator part of formula\n",
    "print(\"Numerator=\",numerator)  \n",
    "\n",
    "import math  #so we can use square root function\n",
    "\n",
    "denominator = math.sqrt(((len(x) * sigmasq_x) - sum1_x**2) * ((len(x) * sigmasq_y) - sum1_y**2)) # denominor part of formula\n",
    "print(\"Denominator=\",denominator)\n",
    "\n",
    "r = numerator/denominator\n",
    "\n",
    "print(\"Pearson's Correlation Co-efficient= r=\",r)"
   ]
  },
  {
   "cell_type": "markdown",
   "metadata": {},
   "source": [
    "### 2. Write a program to print all prime numbers from 1 to 300."
   ]
  },
  {
   "cell_type": "code",
   "execution_count": 1,
   "metadata": {},
   "outputs": [
    {
     "name": "stdout",
     "output_type": "stream",
     "text": [
      "2\n",
      "3\n",
      "5\n",
      "7\n",
      "11\n",
      "13\n",
      "17\n",
      "19\n",
      "23\n",
      "29\n",
      "31\n",
      "37\n",
      "41\n",
      "43\n",
      "47\n",
      "53\n",
      "59\n",
      "61\n",
      "67\n",
      "71\n",
      "73\n",
      "79\n",
      "83\n",
      "89\n",
      "97\n",
      "101\n",
      "103\n",
      "107\n",
      "109\n",
      "113\n",
      "127\n",
      "131\n",
      "137\n",
      "139\n",
      "149\n",
      "151\n",
      "157\n",
      "163\n",
      "167\n",
      "173\n",
      "179\n",
      "181\n",
      "191\n",
      "193\n",
      "197\n",
      "199\n",
      "211\n",
      "223\n",
      "227\n",
      "229\n",
      "233\n",
      "239\n",
      "241\n",
      "251\n",
      "257\n",
      "263\n",
      "269\n",
      "271\n",
      "277\n",
      "281\n",
      "283\n",
      "293\n"
     ]
    }
   ],
   "source": [
    "# prime numbers = [2,3,5,7,11,13,17,......,293]\n",
    "\n",
    "for n in range(2,300): # a number is prime if it's divisible by 1 & itself only\n",
    "    for i in range(2,n):\n",
    "        if n%i == 0:  #for any number b/w 2 to 300, like 5 if in range (2,5) 5 is divisible by any number, \n",
    "                      #then it's not prime. If it's not divisible by any number b/w (2,5) then it's prime\n",
    "            break\n",
    "    else:\n",
    "        print(n)\n"
   ]
  },
  {
   "cell_type": "markdown",
   "metadata": {},
   "source": [
    "### Write a program to print the multiplication table of the number entered by the user. The table should get displayed in the following form.\n",
    " ### 29 * 1 = 29\n",
    " ### 29 *2 = 58\n",
    "\n"
   ]
  },
  {
   "cell_type": "code",
   "execution_count": 2,
   "metadata": {},
   "outputs": [
    {
     "name": "stdout",
     "output_type": "stream",
     "text": [
      "Enter number: 5\n",
      "5 * 1 = 5\n",
      "5 * 2 = 10\n",
      "5 * 3 = 15\n",
      "5 * 4 = 20\n",
      "5 * 5 = 25\n",
      "5 * 6 = 30\n",
      "5 * 7 = 35\n",
      "5 * 8 = 40\n",
      "5 * 9 = 45\n",
      "5 * 10 = 50\n"
     ]
    }
   ],
   "source": [
    "number = int(input(\"Enter number: \"))\n",
    "\n",
    "for i in range(1,11):\n",
    "    print(number,\"*\",i,\"=\",number*i)"
   ]
  },
  {
   "cell_type": "markdown",
   "metadata": {},
   "source": [
    "### 3. WAP which repeatedly reads numbers until the user enters “done”. Once “done” is entered, print out the total, count, and average of the numbers. If the user enters anything other than a number, detect their mistake using try and except and print an error message and skip to the next number. (Use of list is not allowed in this program)"
   ]
  },
  {
   "cell_type": "code",
   "execution_count": 10,
   "metadata": {
    "scrolled": true
   },
   "outputs": [
    {
     "name": "stdout",
     "output_type": "stream",
     "text": [
      "Enter the number: a\n",
      "Invalid input. Try again.\n",
      "Enter the number: 5\n",
      "Enter the number: done\n",
      "Total: 5.0\n",
      "Count: 1\n",
      "Average: 5.0\n"
     ]
    }
   ],
   "source": [
    "count = 0 # initializing\n",
    "avg = 0\n",
    "sum = 0\n",
    "while True:\n",
    "    try:\n",
    "        number = input(\"Enter the number: \") # take input\n",
    "        if number == \"done\":\n",
    "            break # to exit loop\n",
    "\n",
    "        total_val = float(number)\n",
    "        count += 1\n",
    "        sum += total_val\n",
    "        avg = sum/count\n",
    "    except:\n",
    "        print(\"Invalid input. Try again.\")\n",
    "        \n",
    "print(\"Total:\", total_val)\n",
    "print(\"Count:\", count)\n",
    "print(\"Average:\", avg)"
   ]
  },
  {
   "cell_type": "markdown",
   "metadata": {},
   "source": [
    "### 4. Write another program that prompts for a list of numbers as above and at the end prints both the maximum and minimum of the numbers instead of the average. (Use of list is not allowed in this program)"
   ]
  },
  {
   "cell_type": "code",
   "execution_count": 3,
   "metadata": {},
   "outputs": [
    {
     "name": "stdout",
     "output_type": "stream",
     "text": [
      "Enter the number: 5\n",
      "Enter the number: 10\n",
      "Enter the number: 2\n",
      "Enter the number: 947\n",
      "Enter the number: done\n",
      "Maximum: 947\n",
      "Minimum: 10\n"
     ]
    }
   ],
   "source": [
    "maxi = None\n",
    "mini = None # initializing to None\n",
    "\n",
    "while True:\n",
    "    try:\n",
    "        number = input(\"Enter the number: \")\n",
    "        if number == \"done\":\n",
    "            break\n",
    "                \n",
    "    except:\n",
    "        print(\"Invalid input. Try again.\")\n",
    "        continue\n",
    "    \n",
    "    if maxi is None:\n",
    "        maxi = number\n",
    "    elif number > maxi:\n",
    "        maxi = number\n",
    "    if mini is None:\n",
    "        mini = number\n",
    "    elif number < mini:\n",
    "        mini = number\n",
    "        \n",
    "        \n",
    "print(\"Maximum:\", maxi)\n",
    "print(\"Minimum:\", mini)"
   ]
  },
  {
   "cell_type": "markdown",
   "metadata": {},
   "source": [
    "### 5. Guess a number is a game that prompts a player to guess a number between 0 and 9, which is randomly generated by the system. When the input given by the user matches the number generated by the system then the user wins.## Guess the number game:"
   ]
  },
  {
   "cell_type": "markdown",
   "metadata": {},
   "source": [
    "Guess the number: 5\n",
    "\n",
    "Sorry, try again\n",
    "\n",
    "Guess the number: 3\n",
    "\n",
    "Sorry, try again\n",
    "\n",
    "Guess the number: 8\n",
    "\n",
    "You got it right! Congo!"
   ]
  },
  {
   "cell_type": "code",
   "execution_count": 51,
   "metadata": {},
   "outputs": [
    {
     "name": "stdout",
     "output_type": "stream",
     "text": [
      "Number generated: 3\n",
      "Guess the number: 4\n",
      "Sorry, try again\n",
      "Guess the number: 6\n",
      "Sorry, try again\n",
      "Guess the number: 3\n",
      "You got it right! Congo!\n"
     ]
    }
   ],
   "source": [
    "#HW\n",
    "#random.randint\n",
    "#while loop\n",
    "import random\n",
    "number_gen=str(random.randint(0,9))\n",
    "print(\"Number generated:\",number_gen)\n",
    "guess=0\n",
    "\n",
    "\n",
    "while 1:\n",
    "    guess= input(\"Guess the number: \")\n",
    "    if number_gen == guess:\n",
    "        print(\"You got it right! Congo!\")\n",
    "        break\n",
    "    \n",
    "    elif guess==\"exit\":\n",
    "        print(\"Enjoy your day!\")\n",
    "        break\n",
    "    \n",
    "    else:\n",
    "        print(\"Sorry, try again\")\n",
    "        continue\n",
    "    \n",
    "    "
   ]
  },
  {
   "cell_type": "markdown",
   "metadata": {},
   "source": [
    "### 6. Make an improvement to the Guess a number game. Guide the user where they are standing and limit the number of attempts to 3. For example, the game should go like this:"
   ]
  },
  {
   "cell_type": "markdown",
   "metadata": {},
   "source": [
    "Guess the number: 4\n",
    "\n",
    "Too low\n",
    "\n",
    "Guess the number: 9\n",
    "\n",
    "Too high\n",
    "\n",
    "Guess the number: 5\n",
    "\n",
    "Sorry you Lost!"
   ]
  },
  {
   "cell_type": "code",
   "execution_count": 3,
   "metadata": {},
   "outputs": [
    {
     "name": "stdout",
     "output_type": "stream",
     "text": [
      "Number generated: 2\n",
      "Guess the number: 5\n",
      "Too high\n",
      "Guess the number: 5\n",
      "Too high\n",
      "Guess the number: 5\n",
      "Too high\n",
      "Sorry you Lost!\n"
     ]
    }
   ],
   "source": [
    "\n",
    "import random\n",
    "number_gen=str(random.randint(0,9))\n",
    "print(\"Number generated:\",number_gen)\n",
    "guess=0\n",
    "count=0\n",
    "\n",
    "while 1:\n",
    "    guess= input(\"Guess the number: \")\n",
    "    \n",
    "    if number_gen == guess:\n",
    "        print(\"You got it right! Congo!\")\n",
    "        break\n",
    "        \n",
    "    \n",
    "    elif guess==\"exit\":\n",
    "        print(\"Enjoy your day!\")\n",
    "        break\n",
    "    \n",
    "    elif guess < number_gen:\n",
    "        print(\"Too low\")\n",
    "        \n",
    "    elif guess > number_gen:\n",
    "        print(\"Too high\")\n",
    "    count+=1\n",
    "    \n",
    "    if count==3:\n",
    "        print(\"Sorry you Lost!\")\n",
    "        break"
   ]
  },
  {
   "cell_type": "markdown",
   "metadata": {},
   "source": [
    "### 7. Let us make the above game a little more interesting by converting it into a gambling problem. Suppose that a player starts with Rs. 1,000. If a player can guess the number in his first chance, then he will be given a prize of Rs. 5,000, if he requires 2 attempts then he will get a prize of Rs.1,000. If he loses then he will lose Rs. 500. For example the game should go like this:"
   ]
  },
  {
   "cell_type": "markdown",
   "metadata": {},
   "source": [
    "You have a cash of Rs. 1,000 with you...\n",
    "\n",
    "Guess the number: 8\n",
    "    \n",
    "Too high\n",
    "\n",
    "Guess the number: 3\n",
    "    \n",
    "You have just won Rs. 1,000\n",
    "\n",
    "Your balance: Rs. 2000"
   ]
  },
  {
   "cell_type": "code",
   "execution_count": 91,
   "metadata": {},
   "outputs": [
    {
     "name": "stdout",
     "output_type": "stream",
     "text": [
      "Number generated: 9\n",
      "Guess the number: 1\n",
      "Too low\n",
      "Guess the number: 6\n",
      "Sorry you have lost Rs 500\n",
      "Your balance: Rs 500\n"
     ]
    }
   ],
   "source": [
    "import random\n",
    "number_gen=str(random.randint(0,9))  #will give random integer b/w 0 & 9\n",
    "print(\"Number generated:\",number_gen)\n",
    "guess=0\n",
    "count=0\n",
    "amount=1000\n",
    "\n",
    "while 1:\n",
    "    guess= input(\"Guess the number: \")\n",
    "    \n",
    "    if number_gen == guess and count==0: # 1st chance\n",
    "        print(\"You got it right! Congo!\")\n",
    "        amount+=5000\n",
    "        print(\"You have just won Rs. 5000\")\n",
    "        print(\"Your balance: Rs\",amount)\n",
    "        break\n",
    "        \n",
    "    elif number_gen == guess and count==1: # 2nd chance\n",
    "        amount+=1000\n",
    "        print(\"You have just won Rs. 1000\")\n",
    "        print(\"Your balance: Rs\",amount)\n",
    "        print(\"You got it right! Congo!\")\n",
    "        \n",
    "        break\n",
    "        \n",
    "    elif number_gen != guess and count==1: \n",
    "        amount-=500\n",
    "        print(\"Sorry you have lost Rs 500\")\n",
    "        print(\"Your balance: Rs\",amount)\n",
    "    \n",
    "    elif guess < number_gen:\n",
    "        print(\"Too low\")\n",
    "        \n",
    "    elif guess > number_gen:\n",
    "        print(\"Too high\")\n",
    "        \n",
    "    count+=1\n",
    "    \n",
    "    \n",
    "    if count==2:\n",
    "        #print(\"Sorry you Lost!\")\n",
    "        break\n",
    "        \n",
    "\n",
    "#print(\"amount=\",amount)"
   ]
  },
  {
   "cell_type": "markdown",
   "metadata": {},
   "source": [
    "### Extra Credit Problem \n",
    "### 8. Recall the problem when you kept prompting the user to withdraw money from the wallet to start the game. Integrate this program with the one you have written for problem 7."
   ]
  },
  {
   "cell_type": "markdown",
   "metadata": {},
   "source": [
    "a. For this problem, consider that the minimum balance to start the game is Rs.500. \n",
    "\n",
    "b. After one game is over add/deduct money from the account.\n",
    "\n",
    "c. Prompt the user if he/she would like to play one more time.\n",
    "\n",
    "i. If the user says “Yes” then check if the user has enough balance to play\n",
    "the game again. If not prompt the user to withdraw money from his wallet\n",
    "before the program starts the game. When the balance will be greater\n",
    "than Rs. 500 the program will automatically start the game.\n",
    "\n",
    "ii. If the user says “No”, then stop the game with a message “Have a\n",
    "wonderful day!”"
   ]
  },
  {
   "cell_type": "markdown",
   "metadata": {},
   "source": [
    "Q8.Recall the problem when you kept prompting the user to withdraw money from the wallet\n",
    "to start the game. Integrate this program with the one you have written for problem 7.\n",
    "a. For this problem, consider that the minimum balance to start the game is Rs.\n",
    "500.\n",
    "b. After one game is over add/deduct money from the account.\n",
    "c. Prompt the user if he/she would like to play one more time.\n",
    "i. If the user says “Yes” then check if the user has enough balance to play\n",
    "the game again. If not prompt the user to withdraw money from his wallet\n",
    "before the program starts the game. When the balance will be greater\n",
    "than Rs. 500 the program will automatically start the game.\n",
    "\n",
    "ii. If the user says “No”, then stop the game with a message “Have a\n",
    "wonderful day!”"
   ]
  },
  {
   "cell_type": "code",
   "execution_count": 5,
   "metadata": {},
   "outputs": [
    {
     "name": "stdout",
     "output_type": "stream",
     "text": [
      "Number generated: 7\n",
      "You do not have enough money to start playing\n",
      "Withdraw money from e-wallet: 500\n",
      "Account balance: 700\n",
      "Wallet balance: 4500\n",
      "Now, you are ready to play the game\n",
      "Guess the number: 5\n",
      "Too low\n",
      "Now, you are ready to play the game\n",
      "Guess the number: 7\n",
      "You have just won Rs. 1000\n",
      "Your balance: Rs 1700\n",
      "You got it right! Congo!\n",
      "Do you want to play again?(Enter Yes/No): No\n",
      "Have a wonderful day!\n"
     ]
    }
   ],
   "source": [
    "import random\n",
    "guess=0\n",
    "count=0\n",
    "account_balance=200 #initial account balance\n",
    "wallet=5000 #initial wallet amount\n",
    "\n",
    "number_gen=str(random.randint(0,9))  #will give random integer b/w 0 & 9 (including 0 and 9)\n",
    "print(\"Number generated:\",number_gen)\n",
    "        \n",
    "while 1:\n",
    "    \n",
    "    if account_balance>0 and account_balance<500:\n",
    "        print(\"You do not have enough money to start playing\")\n",
    "        amt_withdrawn=int(input(\"Withdraw money from e-wallet: \")) ##amount withdrawn from wallet\n",
    "        account_balance=account_balance+amt_withdrawn # new account balance after adding amount from wallet\n",
    "        wallet=wallet-amt_withdrawn # new wallet balance after deducting amount from wallet\n",
    "                                    #withdrawn amount will be deducted from wallet and added in account to play the game\n",
    "        \n",
    "        print(\"Account balance:\",account_balance)\n",
    "        print(\"Wallet balance:\",wallet)\n",
    "        continue\n",
    "  \n",
    "    else:\n",
    "        print(\"Now, you are ready to play the game\")\n",
    "        guess= input(\"Guess the number: \") # player will be asked to make a guess for the number\n",
    "        count+=1 #after guessing 1 chance will be added to his attempts (Maximum attempts in one game = 3)\n",
    "    \n",
    "    if number_gen == guess and count==1: # if player guesses correct number in first guess\n",
    "        print(\"You got it right! Congo!\")\n",
    "        account_balance+=5000 # he wins Rs 5000 which will be added in his account\n",
    "        print(\"You have just won Rs. 5000\")\n",
    "        print(\"Your balance: Rs\",account_balance)\n",
    "        #break \n",
    "        ask=input(\"Do you want to play again?(Enter Yes/No): \") #ask if player wants to play again\n",
    "        \n",
    "        if ask==\"Yes\": \n",
    "            number_gen=str(random.randint(0,9))  #if he says Yes, new number will be generated\n",
    "            print(\"Number generated:\",number_gen)\n",
    "            count=0 #attempts will be set to 0 again for this new game\n",
    "            continue # loop will re-start from beginning & account balance will be checked\n",
    "        elif ask==\"No\":\n",
    "            print(\"Have a wonderful day!\")\n",
    "            break  # if he says No, the loop will break here and nothing else will be printed            \n",
    "        \n",
    "    elif number_gen == guess and count==2: # if player guesses correct number in second guess\n",
    "        account_balance+=1000 # he wins Rs 1000 which will be added in his account\n",
    "        print(\"You have just won Rs. 1000\")\n",
    "        print(\"Your balance: Rs\",account_balance)\n",
    "        print(\"You got it right! Congo!\")\n",
    "        \n",
    "        #break\n",
    "        ask=input(\"Do you want to play again?(Enter Yes/No): \") #ask if player wants to play again\n",
    "        \n",
    "        if ask==\"Yes\":\n",
    "            number_gen=str(random.randint(0,9))  #if he says Yes, new number will be generated\n",
    "            print(\"Number generated:\",number_gen)\n",
    "            count=0 #attempts will be set to 0 again for this new game\n",
    "            continue # loop will re-start from beginning & account balance will be checked\n",
    "        elif ask==\"No\":\n",
    "            print(\"Have a wonderful day!\")\n",
    "            break  # if he says No, the loop will break here and nothing else will be printed            \n",
    "        \n",
    "    elif number_gen == guess and count==3: #if player guesses correct number in third guess\n",
    "        print(\"You got it right! Congo!\")\n",
    "        print(\"Your balance: Rs\",account_balance) #no amount will be added\n",
    "        \n",
    "        ask=input(\"Do you want to play again?(Enter Yes/No): \") #ask if player wants to play again\n",
    "        \n",
    "        if ask==\"Yes\":\n",
    "            number_gen=str(random.randint(0,9))  #if he says Yes, new number will be generated\n",
    "            print(\"Number generated:\",number_gen)\n",
    "            count=0  #attempts will be set to 0 again for this new game\n",
    "            continue # loop will re-start from beginning & account balance will be checked\n",
    "        elif ask==\"No\":\n",
    "            print(\"Have a wonderful day!\")\n",
    "            break # if he says No, the loop will break here and nothing else will be printed            \n",
    "    \n",
    "    elif number_gen != guess and count==3: #if player guesses incorrect number in first,second & third guess as well\n",
    "        account_balance-=500 #h e loses Rs 500\n",
    "        print(\"Sorry you have lost Rs 500\")\n",
    "        print(\"Your balance: Rs\",account_balance)\n",
    "        \n",
    "        ask=input(\"Do you want to play again?(Enter Yes/No): \") #ask if player wants to play again\n",
    "        \n",
    "        if ask==\"Yes\":\n",
    "            number_gen=str(random.randint(0,9))  #if he says Yes, new number will be generated\n",
    "            print(\"Number generated:\",number_gen)\n",
    "            count=0  #attempts will be set to 0 again for this new game\n",
    "            continue # loop will re-start from beginning & account balance will be checked\n",
    "        elif ask==\"No\":\n",
    "            print(\"Have a wonderful day!\")\n",
    "            break  # if he says No, the loop will break here and nothing else will be printed       \n",
    "    \n",
    "    \n",
    "    elif guess < number_gen:\n",
    "        print(\"Too low\")\n",
    "        \n",
    "    elif guess > number_gen:\n",
    "        print(\"Too high\")\n",
    "\n",
    "    \n",
    "    if count==3: # Loop will end once number of attempts reach 3\n",
    "        #print(\"Sorry you Lost!\")\n",
    "        break\n",
    "        \n",
    "\n",
    "#print(\"account_balance=\",account_balance)"
   ]
  }
 ],
 "metadata": {
  "kernelspec": {
   "display_name": "Python 3",
   "language": "python",
   "name": "python3"
  },
  "language_info": {
   "codemirror_mode": {
    "name": "ipython",
    "version": 3
   },
   "file_extension": ".py",
   "mimetype": "text/x-python",
   "name": "python",
   "nbconvert_exporter": "python",
   "pygments_lexer": "ipython3",
   "version": "3.8.3"
  },
  "toc": {
   "base_numbering": 1,
   "nav_menu": {},
   "number_sections": true,
   "sideBar": true,
   "skip_h1_title": false,
   "title_cell": "Table of Contents",
   "title_sidebar": "Contents",
   "toc_cell": false,
   "toc_position": {},
   "toc_section_display": true,
   "toc_window_display": false
  },
  "varInspector": {
   "cols": {
    "lenName": 16,
    "lenType": 16,
    "lenVar": 40
   },
   "kernels_config": {
    "python": {
     "delete_cmd_postfix": "",
     "delete_cmd_prefix": "del ",
     "library": "var_list.py",
     "varRefreshCmd": "print(var_dic_list())"
    },
    "r": {
     "delete_cmd_postfix": ") ",
     "delete_cmd_prefix": "rm(",
     "library": "var_list.r",
     "varRefreshCmd": "cat(var_dic_list()) "
    }
   },
   "types_to_exclude": [
    "module",
    "function",
    "builtin_function_or_method",
    "instance",
    "_Feature"
   ],
   "window_display": false
  }
 },
 "nbformat": 4,
 "nbformat_minor": 4
}
