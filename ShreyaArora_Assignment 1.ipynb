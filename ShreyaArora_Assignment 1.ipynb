{
 "cells": [
  {
   "cell_type": "markdown",
   "metadata": {
    "toc": true
   },
   "source": [
    "<h1>Table of Contents<span class=\"tocSkip\"></span></h1>\n",
    "<div class=\"toc\"><ul class=\"toc-item\"><li><span><a href=\"#Assignment-1\" data-toc-modified-id=\"Assignment-1-1\"><span class=\"toc-item-num\">1&nbsp;&nbsp;</span>Assignment 1</a></span><ul class=\"toc-item\"><li><ul class=\"toc-item\"><li><span><a href=\"#1.-Ramesh’s-basic-salary-is-input-through-the-keyboard.-His-dearness-allowance-is-40%-of-basic-salary,-and-house-rent-allowance-is-20%-of-basic-salary.-Write-a-program-to-calculate-his-gross-salary.\" data-toc-modified-id=\"1.-Ramesh’s-basic-salary-is-input-through-the-keyboard.-His-dearness-allowance-is-40%-of-basic-salary,-and-house-rent-allowance-is-20%-of-basic-salary.-Write-a-program-to-calculate-his-gross-salary.-1.0.1\"><span class=\"toc-item-num\">1.0.1&nbsp;&nbsp;</span>1. Ramesh’s basic salary is input through the keyboard. His dearness allowance is 40% of basic salary, and house rent allowance is 20% of basic salary. Write a program to calculate his gross salary.</a></span></li><li><span><a href=\"#2.-The-distance-between-two-cities-(in-km.)-is-input-through-the-keyboard.-Write-a-program-to-convert-and-print-this-distance-in-meters,-feet,-inches-and-centimeters.\" data-toc-modified-id=\"2.-The-distance-between-two-cities-(in-km.)-is-input-through-the-keyboard.-Write-a-program-to-convert-and-print-this-distance-in-meters,-feet,-inches-and-centimeters.-1.0.2\"><span class=\"toc-item-num\">1.0.2&nbsp;&nbsp;</span>2. The distance between two cities (in km.) is input through the keyboard. Write a program to convert and print this distance in meters, feet, inches and centimeters.</a></span></li><li><span><a href=\"#3.-If-the-marks-obtained-by-a-student-in-five-different-subjects-are-input-through-the-keyboard,-find-out-the-aggregate-marks-and-percentage-marks-obtained-by-the-student.-Assume-that-the-maximum-marks-that-can-be-obtained-by-a-student-in-each-subject-is-100.\" data-toc-modified-id=\"3.-If-the-marks-obtained-by-a-student-in-five-different-subjects-are-input-through-the-keyboard,-find-out-the-aggregate-marks-and-percentage-marks-obtained-by-the-student.-Assume-that-the-maximum-marks-that-can-be-obtained-by-a-student-in-each-subject-is-100.-1.0.3\"><span class=\"toc-item-num\">1.0.3&nbsp;&nbsp;</span>3. If the marks obtained by a student in five different subjects are input through the keyboard, find out the aggregate marks and percentage marks obtained by the student. Assume that the maximum marks that can be obtained by a student in each subject is 100.</a></span></li><li><span><a href=\"#4.-Temperature-of-a-city-in-Fahrenheit-degrees-is-input-through-the-keyboard.-Write-a-program-to-convert-this-temperature-into-Centigrade-degrees.\" data-toc-modified-id=\"4.-Temperature-of-a-city-in-Fahrenheit-degrees-is-input-through-the-keyboard.-Write-a-program-to-convert-this-temperature-into-Centigrade-degrees.-1.0.4\"><span class=\"toc-item-num\">1.0.4&nbsp;&nbsp;</span>4. Temperature of a city in Fahrenheit degrees is input through the keyboard. Write a program to convert this temperature into Centigrade degrees.</a></span></li><li><span><a href=\"#5.-The-length-&amp;-breadth-of-a-rectangle-and-radius-of-a-circle-are-input-through-the-keyboard.-Write-a-program-to-calculate-the-area-&amp;-perimeter-of-the-rectangle,-and-the-area-&amp;-circumference-of-the-circle.\" data-toc-modified-id=\"5.-The-length-&amp;-breadth-of-a-rectangle-and-radius-of-a-circle-are-input-through-the-keyboard.-Write-a-program-to-calculate-the-area-&amp;-perimeter-of-the-rectangle,-and-the-area-&amp;-circumference-of-the-circle.-1.0.5\"><span class=\"toc-item-num\">1.0.5&nbsp;&nbsp;</span>5. The length &amp; breadth of a rectangle and radius of a circle are input through the keyboard. Write a program to calculate the area &amp; perimeter of the rectangle, and the area &amp; circumference of the circle.</a></span></li><li><span><a href=\"#6.-Two-numbers-are-input-through-the-keyboard-into-two-locations-C-and-D.-Write-a-program-to-interchange-the-contents-of-C-and-D.\" data-toc-modified-id=\"6.-Two-numbers-are-input-through-the-keyboard-into-two-locations-C-and-D.-Write-a-program-to-interchange-the-contents-of-C-and-D.-1.0.6\"><span class=\"toc-item-num\">1.0.6&nbsp;&nbsp;</span>6. Two numbers are input through the keyboard into two locations C and D. Write a program to interchange the contents of C and D.</a></span></li><li><span><a href=\"#7.-If-a-five-digit-number-is-input-through-the-keyboard,-write-a-program-to-reverse-the-number.\" data-toc-modified-id=\"7.-If-a-five-digit-number-is-input-through-the-keyboard,-write-a-program-to-reverse-the-number.-1.0.7\"><span class=\"toc-item-num\">1.0.7&nbsp;&nbsp;</span>7. If a five-digit number is input through the keyboard, write a program to reverse the number.</a></span></li><li><span><a href=\"#8.-If-a-four-digit-number-is-input-through-the-keyboard,-write-a-program-to-obtain-the-sum-of-the-first-and-last-digit-of-this-number.\" data-toc-modified-id=\"8.-If-a-four-digit-number-is-input-through-the-keyboard,-write-a-program-to-obtain-the-sum-of-the-first-and-last-digit-of-this-number.-1.0.8\"><span class=\"toc-item-num\">1.0.8&nbsp;&nbsp;</span>8. If a four-digit number is input through the keyboard, write a program to obtain the sum of the first and last digit of this number.</a></span></li><li><span><a href=\"#9.-In-a-town,-the-percentage-of-men-is-52.-The-percentage-of-total-literacy-is-48.-If-total-percentage-of-literate-men-is-35-of-the-total-population,-write-a-program-to-find-the-total-number-of-illiterate-men-and-women-if-the-population-of-the-town-is-80,000.\" data-toc-modified-id=\"9.-In-a-town,-the-percentage-of-men-is-52.-The-percentage-of-total-literacy-is-48.-If-total-percentage-of-literate-men-is-35-of-the-total-population,-write-a-program-to-find-the-total-number-of-illiterate-men-and-women-if-the-population-of-the-town-is-80,000.-1.0.9\"><span class=\"toc-item-num\">1.0.9&nbsp;&nbsp;</span>9. In a town, the percentage of men is 52. The percentage of total literacy is 48. If total percentage of literate men is 35 of the total population, write a program to find the total number of illiterate men and women if the population of the town is 80,000.</a></span></li><li><span><a href=\"#10.-A-cashier-has-currency-notes-of-denominations-10,-50-and-100.-If-the-amount-to-be-withdrawn-is-input-through-the-keyboard-in-hundreds,-find-the-total-number-of-currency-notes-of-each-denomination-the-cashier-will-have-to-give-to-the-withdrawer.\" data-toc-modified-id=\"10.-A-cashier-has-currency-notes-of-denominations-10,-50-and-100.-If-the-amount-to-be-withdrawn-is-input-through-the-keyboard-in-hundreds,-find-the-total-number-of-currency-notes-of-each-denomination-the-cashier-will-have-to-give-to-the-withdrawer.-1.0.10\"><span class=\"toc-item-num\">1.0.10&nbsp;&nbsp;</span>10. A cashier has currency notes of denominations 10, 50 and 100. If the amount to be withdrawn is input through the keyboard in hundreds, find the total number of currency notes of each denomination the cashier will have to give to the withdrawer.</a></span></li></ul></li></ul></li></ul></div>"
   ]
  },
  {
   "cell_type": "markdown",
   "metadata": {},
   "source": [
    "# Assignment 1"
   ]
  },
  {
   "cell_type": "markdown",
   "metadata": {
    "heading_collapsed": true
   },
   "source": [
    "##### Write Python Program for the following:"
   ]
  },
  {
   "cell_type": "markdown",
   "metadata": {},
   "source": [
    "### 1. Ramesh’s basic salary is input through the keyboard. His dearness allowance is 40% of basic salary, and house rent allowance is 20% of basic salary. Write a program to calculate his gross salary."
   ]
  },
  {
   "cell_type": "code",
   "execution_count": 2,
   "metadata": {},
   "outputs": [
    {
     "name": "stdout",
     "output_type": "stream",
     "text": [
      "Enter Basic Salary: 10000\n",
      "Gross Salary=  15000.0\n"
     ]
    }
   ],
   "source": [
    "basic_sal = float(input(\"Enter Basic Salary: \"))\n",
    "dearness_allowance = .4 * basic_sal\n",
    "x = .2 * basic_sal\n",
    "gross_sal = basic_sal + dearness_allowance + rent_allowance\n",
    "print(\"Gross Salary= \", gross_sal)"
   ]
  },
  {
   "cell_type": "markdown",
   "metadata": {},
   "source": [
    "### 2. The distance between two cities (in km.) is input through the keyboard. Write a program to convert and print this distance in meters, feet, inches and centimeters."
   ]
  },
  {
   "cell_type": "code",
   "execution_count": 5,
   "metadata": {},
   "outputs": [
    {
     "name": "stdout",
     "output_type": "stream",
     "text": [
      "Enter the distance in km: 1\n",
      "Distance: \n",
      "1.0 km\n",
      "1000.0 meters\n",
      "3280.84 feet\n",
      "39370.08 inches\n",
      "100000.0 centimeters\n"
     ]
    }
   ],
   "source": [
    "dist = float(input(\"Enter the distance in km: \"))\n",
    "dist_m = dist * 1000 # 1km = 1000m\n",
    "dist_ft = dist * 3280.84 # 1km = 3280.84 feet\n",
    "dist_in = dist_ft * 12 # 1 foot = 12 inches\n",
    "dist_cm = dist_m * 100 # 1m = 100 cm\n",
    "\n",
    "print(\"Distance: \")\n",
    "print(dist,\"km\")\n",
    "print(dist_m,\"meters\")\n",
    "print(dist_ft,\"feet\")\n",
    "print(dist_in,\"inches\")\n",
    "print(dist_cm,\"centimeters\")\n"
   ]
  },
  {
   "cell_type": "markdown",
   "metadata": {},
   "source": [
    "### 3. If the marks obtained by a student in five different subjects are input through the keyboard, find out the aggregate marks and percentage marks obtained by the student. Assume that the maximum marks that can be obtained by a student in each subject is 100."
   ]
  },
  {
   "cell_type": "code",
   "execution_count": 11,
   "metadata": {},
   "outputs": [
    {
     "name": "stdout",
     "output_type": "stream",
     "text": [
      "Enter marks in subject 1: 50\n",
      "Enter marks in subject 2: 50\n",
      "Enter marks in subject 3: 50\n",
      "Enter marks in subject 4: 45\n",
      "Enter marks in subject 5: 99\n",
      "Aggregate Marks=  58.8\n",
      "Percentage=  58.8 %\n"
     ]
    }
   ],
   "source": [
    "marks1 = float(input(\"Enter marks in subject 1: \"))\n",
    "marks2 = float(input(\"Enter marks in subject 2: \"))\n",
    "marks3 = float(input(\"Enter marks in subject 3: \"))\n",
    "marks4 = float(input(\"Enter marks in subject 4: \"))\n",
    "marks5 = float(input(\"Enter marks in subject 5: \"))\n",
    "\n",
    "aggregate = (marks1 + marks2 + marks3 + marks4 + marks5)/5\n",
    "perc = round(((marks1 + marks2 + marks3 + marks4 + marks5)/500)*100,2)\n",
    "print(\"Aggregate Marks= \", aggregate)\n",
    "print(\"Percentage= \", perc,\"%\")"
   ]
  },
  {
   "cell_type": "markdown",
   "metadata": {},
   "source": [
    "### 4. Temperature of a city in Fahrenheit degrees is input through the keyboard. Write a program to convert this temperature into Centigrade degrees."
   ]
  },
  {
   "cell_type": "code",
   "execution_count": 12,
   "metadata": {},
   "outputs": [
    {
     "name": "stdout",
     "output_type": "stream",
     "text": [
      "Enter Temperature in Fahrenheit:1\n",
      "Temperature in Centigarde Degrees:  -17.22222222222222\n"
     ]
    }
   ],
   "source": [
    "ftemp = float(input(\"Enter Temperature in Fahrenheit:\"))\n",
    "ctemp = (ftemp-32)*(5/9)\n",
    "\n",
    "print(\"Temperature in Centigarde Degrees: \",ctemp)"
   ]
  },
  {
   "cell_type": "markdown",
   "metadata": {},
   "source": [
    "### 5. The length &amp; breadth of a rectangle and radius of a circle are input through the keyboard. Write a program to calculate the area &amp; perimeter of the rectangle, and the area &amp; circumference of the circle."
   ]
  },
  {
   "cell_type": "code",
   "execution_count": 19,
   "metadata": {},
   "outputs": [
    {
     "name": "stdout",
     "output_type": "stream",
     "text": [
      "Enter the length of rectangle: 5\n",
      "Enter the breadth of rectangle: 5\n",
      "Enter the radius of circle: 5\n",
      "Area of rectangle:  25.0\n",
      "Area of circle:  78.54\n",
      "Perimeter of rectangle:  20.0\n",
      "Circumference of circle:  31.42\n"
     ]
    }
   ],
   "source": [
    "import math\n",
    "length = float(input(\"Enter the length of rectangle: \"))\n",
    "breadth = float(input(\"Enter the breadth of rectangle: \"))\n",
    "radius = float(input(\"Enter the radius of circle: \"))\n",
    "\n",
    "area_r = length * breadth # area of rectangle = l*b\n",
    "area_c = round(((math.pi) * (radius)**2),2) # area of circle = Pi*r^2\n",
    "per_r = 2*(length + breadth) # perimeter of rectangle = 2(l+b)\n",
    "circum = round((2 * (math.pi) * radius),2) # circumference of circle = 2 *Pi* r\n",
    "\n",
    "print(\"Area of rectangle: \", area_r)\n",
    "print(\"Area of circle: \", area_c)\n",
    "print(\"Perimeter of rectangle: \", per_r)\n",
    "print(\"Circumference of circle: \", circum)"
   ]
  },
  {
   "cell_type": "markdown",
   "metadata": {},
   "source": [
    "### 6. Two numbers are input through the keyboard into two locations C and D. Write a program to interchange the contents of C and D."
   ]
  },
  {
   "cell_type": "code",
   "execution_count": 22,
   "metadata": {},
   "outputs": [
    {
     "name": "stdout",
     "output_type": "stream",
     "text": [
      "Enter number C: 100\n",
      "Enter number C: 80\n",
      "\n",
      "\n",
      "New Value of C: 80\n",
      "New Value of D: 100\n"
     ]
    }
   ],
   "source": [
    "C = int(input(\"Enter number C: \"))\n",
    "D = int(input(\"Enter number C: \"))\n",
    "\n",
    "\n",
    "C = C-D #20\n",
    "D = D + C #100\n",
    "C = D - C #80\n",
    "\n",
    "print(\"\\n\")\n",
    "print(\"New Value of C:\",C)\n",
    "print(\"New Value of D:\",D)"
   ]
  },
  {
   "cell_type": "markdown",
   "metadata": {},
   "source": [
    "### 7. If a five-digit number is input through the keyboard, write a program to reverse the number."
   ]
  },
  {
   "cell_type": "code",
   "execution_count": 40,
   "metadata": {},
   "outputs": [
    {
     "name": "stdout",
     "output_type": "stream",
     "text": [
      "Enter a 5 digit number: 12345\n",
      "Original number: 12345\n",
      "Reverse of number: 54321\n"
     ]
    }
   ],
   "source": [
    "num = int(input(\"Enter a 5 digit number: \"))\n",
    "print(\"Original number:\", num)\n",
    "reverse_num = 0\n",
    "\n",
    "while num>0:    \n",
    "    last_dig = num%10 #remainder = last dig\n",
    "    reverse_num = reverse_num*10 + last_dig\n",
    "    num = num//10 # to get new number without last digit\n",
    "    #print(last_dig)\n",
    "\n",
    "print(\"Reverse of number:\",reverse_num)"
   ]
  },
  {
   "cell_type": "markdown",
   "metadata": {},
   "source": [
    "### 8. If a four-digit number is input through the keyboard, write a program to obtain the sum of the first and last digit of this number."
   ]
  },
  {
   "cell_type": "code",
   "execution_count": 11,
   "metadata": {},
   "outputs": [
    {
     "name": "stdout",
     "output_type": "stream",
     "text": [
      "Enter a 4 digit number: 0250\n",
      "0\n",
      "0\n",
      "Sum of fisrt & last digit= 0\n"
     ]
    }
   ],
   "source": [
    "n = int(input(\"Enter a 4 digit number: \"))\n",
    "\n",
    "last = n%10 # last digit\n",
    "first = n//1000 # first digit\n",
    "total = last + first\n",
    "print(first)\n",
    "print(last)\n",
    "print(\"Sum of fisrt & last digit=\",total)"
   ]
  },
  {
   "cell_type": "markdown",
   "metadata": {},
   "source": [
    "### 9. In a town, the percentage of men is 52. The percentage of total literacy is 48. If total percentage of literate men is 35 of the total population, write a program to find the total number of illiterate men and women if the population of the town is 80,000."
   ]
  },
  {
   "cell_type": "code",
   "execution_count": 14,
   "metadata": {},
   "outputs": [
    {
     "name": "stdout",
     "output_type": "stream",
     "text": [
      "Illiterate Men: 13600.0\n",
      "Illiterate Women: 28000.0\n"
     ]
    }
   ],
   "source": [
    "pop = 80000\n",
    "\n",
    "men = .52*pop\n",
    "women = pop - men\n",
    "\n",
    "tot_lit = .48*pop # total literate population\n",
    "lit_men = .35*pop # literate men\n",
    "lit_women = tot_lit - lit_men # literate women\n",
    "\n",
    "illiterate_women = women - lit_women\n",
    "illiterate_men = men - lit_men # illiterate men\n",
    "\n",
    "print(\"Illiterate Men:\",illiterate_men)\n",
    "print(\"Illiterate Women:\",illiterate_women)"
   ]
  },
  {
   "cell_type": "markdown",
   "metadata": {},
   "source": [
    "### 10. A cashier has currency notes of denominations 10, 50 and 100. If the amount to be withdrawn is input through the keyboard in hundreds, find the total number of currency notes of each denomination the cashier will have to give to the withdrawer."
   ]
  },
  {
   "cell_type": "code",
   "execution_count": null,
   "metadata": {},
   "outputs": [],
   "source": [
    "#10, 50, 100\n",
    "#1300"
   ]
  },
  {
   "cell_type": "code",
   "execution_count": 28,
   "metadata": {},
   "outputs": [
    {
     "name": "stdout",
     "output_type": "stream",
     "text": [
      "Enter amount to withdrawn: 1370\n",
      "100 Rupee notes needed:  13\n",
      "50 Rupee notes needed: 1\n",
      "10 Rupee notes needed: 2.0\n",
      "Remaining amount: 0\n"
     ]
    }
   ],
   "source": [
    "amount = int(input(\"Enter amount to withdrawn: \"))\n",
    "\n",
    "quotient = amount//100\n",
    "    \n",
    "rem = amount%100 # remainder\n",
    "print(\"100 Rupee notes needed: \", quotient) \n",
    "print(\"50 Rupee notes needed:\", (amount%100)//50)\n",
    "print(\"10 Rupee notes needed:\", (((amount%100)%50)/10))\n",
    "print(\"Remaining amount:\", (((amount%100)%50)%10))"
   ]
  }
 ],
 "metadata": {
  "kernelspec": {
   "display_name": "Python 3",
   "language": "python",
   "name": "python3"
  },
  "language_info": {
   "codemirror_mode": {
    "name": "ipython",
    "version": 3
   },
   "file_extension": ".py",
   "mimetype": "text/x-python",
   "name": "python",
   "nbconvert_exporter": "python",
   "pygments_lexer": "ipython3",
   "version": "3.8.3"
  },
  "toc": {
   "base_numbering": 1,
   "nav_menu": {},
   "number_sections": true,
   "sideBar": true,
   "skip_h1_title": false,
   "title_cell": "Table of Contents",
   "title_sidebar": "Contents",
   "toc_cell": true,
   "toc_position": {
    "height": "calc(100% - 180px)",
    "left": "10px",
    "top": "150px",
    "width": "165px"
   },
   "toc_section_display": true,
   "toc_window_display": true
  },
  "varInspector": {
   "cols": {
    "lenName": 16,
    "lenType": 16,
    "lenVar": 40
   },
   "kernels_config": {
    "python": {
     "delete_cmd_postfix": "",
     "delete_cmd_prefix": "del ",
     "library": "var_list.py",
     "varRefreshCmd": "print(var_dic_list())"
    },
    "r": {
     "delete_cmd_postfix": ") ",
     "delete_cmd_prefix": "rm(",
     "library": "var_list.r",
     "varRefreshCmd": "cat(var_dic_list()) "
    }
   },
   "types_to_exclude": [
    "module",
    "function",
    "builtin_function_or_method",
    "instance",
    "_Feature"
   ],
   "window_display": false
  }
 },
 "nbformat": 4,
 "nbformat_minor": 4
}
