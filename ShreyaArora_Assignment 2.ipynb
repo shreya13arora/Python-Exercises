{
 "cells": [
  {
   "cell_type": "markdown",
   "metadata": {
    "toc": true
   },
   "source": [
    "<h1>Table of Contents<span class=\"tocSkip\"></span></h1>\n",
    "<div class=\"toc\"><ul class=\"toc-item\"><li><span><a href=\"#Assignment-2\" data-toc-modified-id=\"Assignment-2-1\"><span class=\"toc-item-num\">1&nbsp;&nbsp;</span>Assignment 2</a></span><ul class=\"toc-item\"><li><ul class=\"toc-item\"><li><span><a href=\"#1.-Prompt-the-user-for-a-score-between-0.0-and-1.0.-If-the-score-is-out-of-range,-print-an-error-message.-If-the-score-is-between-0.0-and-1.0,-print-a-grade-using-the-following-table:\" data-toc-modified-id=\"1.-Prompt-the-user-for-a-score-between-0.0-and-1.0.-If-the-score-is-out-of-range,-print-an-error-message.-If-the-score-is-between-0.0-and-1.0,-print-a-grade-using-the-following-table:-1.0.1\"><span class=\"toc-item-num\">1.0.1&nbsp;&nbsp;</span>1. Prompt the user for a score between 0.0 and 1.0. If the score is out of range, print an error message. If the score is between 0.0 and 1.0, print a grade using the following table:</a></span></li><li><span><a href=\"#2.-If-cost-price-and-selling-price-of-an-item-is-input-through-the-keyboard,-write-a-program-to-determine-whether-the-seller-has-made-profit-or-incurred-loss.-Also-determine-how-much-profit-he-made-or-loss-he-incurred.\" data-toc-modified-id=\"2.-If-cost-price-and-selling-price-of-an-item-is-input-through-the-keyboard,-write-a-program-to-determine-whether-the-seller-has-made-profit-or-incurred-loss.-Also-determine-how-much-profit-he-made-or-loss-he-incurred.-1.0.2\"><span class=\"toc-item-num\">1.0.2&nbsp;&nbsp;</span>2. If cost price and selling price of an item is input through the keyboard, write a program to determine whether the seller has made profit or incurred loss. Also determine how much profit he made or loss he incurred.</a></span></li><li><span><a href=\"#3.-Any-year-is-input-through-the-keyboard.-Write-a-program-to-determine-whether-the-year-is-a-leap-year-or-not.\" data-toc-modified-id=\"3.-Any-year-is-input-through-the-keyboard.-Write-a-program-to-determine-whether-the-year-is-a-leap-year-or-not.-1.0.3\"><span class=\"toc-item-num\">1.0.3&nbsp;&nbsp;</span>3. Any year is input through the keyboard. Write a program to determine whether the year is a leap year or not.</a></span></li><li><span><a href=\"#4.-A-five-digit-number-is-entered-through-the-keyboard.-Write-a-program-to-obtain-the-reversed-number-and-to-determine-whether-the-original-and-reversed-numbers-are-equal-or-not.\" data-toc-modified-id=\"4.-A-five-digit-number-is-entered-through-the-keyboard.-Write-a-program-to-obtain-the-reversed-number-and-to-determine-whether-the-original-and-reversed-numbers-are-equal-or-not.-1.0.4\"><span class=\"toc-item-num\">1.0.4&nbsp;&nbsp;</span>4. A five-digit number is entered through the keyboard. Write a program to obtain the reversed number and to determine whether the original and reversed numbers are equal or not.</a></span></li><li><span><a href=\"#5.-If-the-ages-of-Ram,-Shyam-and-Ajay-are-input-through-the-keyboard,-write-a-program-to-determine-the-youngest-of-the-three.\" data-toc-modified-id=\"5.-If-the-ages-of-Ram,-Shyam-and-Ajay-are-input-through-the-keyboard,-write-a-program-to-determine-the-youngest-of-the-three.-1.0.5\"><span class=\"toc-item-num\">1.0.5&nbsp;&nbsp;</span>5. If the ages of Ram, Shyam and Ajay are input through the keyboard, write a program to determine the youngest of the three.</a></span></li><li><span><a href=\"#6.-Write-a-program-to-check-whether-a-triangle-is-valid-or-not,-when-the-three-angles-of-the-triangle-are-entered-through-the-keyboard.-A-triangle-is-valid-if-the-sum-of-all-the-three-angles-is-equal-to-180-degrees.\" data-toc-modified-id=\"6.-Write-a-program-to-check-whether-a-triangle-is-valid-or-not,-when-the-three-angles-of-the-triangle-are-entered-through-the-keyboard.-A-triangle-is-valid-if-the-sum-of-all-the-three-angles-is-equal-to-180-degrees.-1.0.6\"><span class=\"toc-item-num\">1.0.6&nbsp;&nbsp;</span>6. Write a program to check whether a triangle is valid or not, when the three angles of the triangle are entered through the keyboard. A triangle is valid if the sum of all the three angles is equal to 180 degrees.</a></span></li><li><span><a href=\"#7.-Find-the-absolute-value-of-a-number-entered-through-the-keyboard.\" data-toc-modified-id=\"7.-Find-the-absolute-value-of-a-number-entered-through-the-keyboard.-1.0.7\"><span class=\"toc-item-num\">1.0.7&nbsp;&nbsp;</span>7. Find the absolute value of a number entered through the keyboard.</a></span></li><li><span><a href=\"#8.-Given-three-points-(x1,-y1),-(x2,-y2)-and-(x3,-y3),-write-a-program-to-check-if-all-the-three-points-fall-on-one-straight-line.\" data-toc-modified-id=\"8.-Given-three-points-(x1,-y1),-(x2,-y2)-and-(x3,-y3),-write-a-program-to-check-if-all-the-three-points-fall-on-one-straight-line.-1.0.8\"><span class=\"toc-item-num\">1.0.8&nbsp;&nbsp;</span>8. Given three points (x1, y1), (x2, y2) and (x3, y3), write a program to check if all the three points fall on one straight line.</a></span></li><li><span><a href=\"#9.-Given-a-point-(x,-y),-write-a-program-to-find-out-if-it-lies-on-the-x-axis,-y-axis-or-at-the-origin,-viz.-(0,-0).\" data-toc-modified-id=\"9.-Given-a-point-(x,-y),-write-a-program-to-find-out-if-it-lies-on-the-x-axis,-y-axis-or-at-the-origin,-viz.-(0,-0).-1.0.9\"><span class=\"toc-item-num\">1.0.9&nbsp;&nbsp;</span>9. Given a point (x, y), write a program to find out if it lies on the x-axis, y-axis or at the origin, viz. (0, 0).</a></span></li><li><span><a href=\"#10.-An-Insurance-company-follows-following-rules-to-calculate-premium:-Write-a-program-to-output-whether-the-person-should-be-insured-or-not,-his/her-premium-rate-and-maximum-amount-for-which-he/she-can-be-insured.\" data-toc-modified-id=\"10.-An-Insurance-company-follows-following-rules-to-calculate-premium:-Write-a-program-to-output-whether-the-person-should-be-insured-or-not,-his/her-premium-rate-and-maximum-amount-for-which-he/she-can-be-insured.-1.0.10\"><span class=\"toc-item-num\">1.0.10&nbsp;&nbsp;</span>10. An Insurance company follows following rules to calculate premium: Write a program to output whether the person should be insured or not, his/her premium rate and maximum amount for which he/she can be insured.</a></span></li><li><span><a href=\"#11.-A-certain-grade-of-steel-is-graded-according-to-the-following-conditions:--Write-a-program,-which-will-require-the-user-to-give-values-of-hardness,-carbon-content-and-tensile-strength-of-the-steel-under-consideration-and-output-the-grade-of-the-steel.\" data-toc-modified-id=\"11.-A-certain-grade-of-steel-is-graded-according-to-the-following-conditions:--Write-a-program,-which-will-require-the-user-to-give-values-of-hardness,-carbon-content-and-tensile-strength-of-the-steel-under-consideration-and-output-the-grade-of-the-steel.-1.0.11\"><span class=\"toc-item-num\">1.0.11&nbsp;&nbsp;</span>11. A certain grade of steel is graded according to the following conditions:  Write a program, which will require the user to give values of hardness, carbon content and tensile strength of the steel under consideration and output the grade of the steel.</a></span></li><li><span><a href=\"#12.-A-library-charges-a-fine-for-every-book-returned-late.-For-first-5-days-the-fine-is-50-paise,-for-6-10-days-fine-is-one-rupee-and-above-10-days-fine-is-5-rupees.-If-you-return-the-book-after-30-days-your-membership-will-be-cancelled.-Write-a-program-to-accept-the-number-of-days-the-member-is-late-to-return-the-book-and-display-the-fine-or-the-appropriate-message.\" data-toc-modified-id=\"12.-A-library-charges-a-fine-for-every-book-returned-late.-For-first-5-days-the-fine-is-50-paise,-for-6-10-days-fine-is-one-rupee-and-above-10-days-fine-is-5-rupees.-If-you-return-the-book-after-30-days-your-membership-will-be-cancelled.-Write-a-program-to-accept-the-number-of-days-the-member-is-late-to-return-the-book-and-display-the-fine-or-the-appropriate-message.-1.0.12\"><span class=\"toc-item-num\">1.0.12&nbsp;&nbsp;</span>12. A library charges a fine for every book returned late. For first 5 days the fine is 50 paise, for 6-10 days fine is one rupee and above 10 days fine is 5 rupees. If you return the book after 30 days your membership will be cancelled. Write a program to accept the number of days the member is late to return the book and display the fine or the appropriate message.</a></span></li><li><span><a href=\"#13.-The-policy-followed-by-a-company-to-process-customer-orders-is-given-by-the-following-rules:\" data-toc-modified-id=\"13.-The-policy-followed-by-a-company-to-process-customer-orders-is-given-by-the-following-rules:-1.0.13\"><span class=\"toc-item-num\">1.0.13&nbsp;&nbsp;</span>13. The policy followed by a company to process customer orders is given by the following rules:</a></span></li><li><span><a href=\"#14.-In-a-company,-worker-efficiency-is-determined-on-the-basis-of-the-time-required-for-a-worker-to-complete-a-particular-job.-If-the-time-taken-by-the-worker-is-between-2-–-3-hours,-then-the-worker-is-said-to-be-highly-efficient.-If-the-time-required-by-the-worker-is-between-3-–-4-hours,-then-the-worker-is-ordered-to-improve-speed.-If-the-time-taken-is-between-4-–-5-hours,-the-worker-is-given-training-to-improve-his-speed,-and-if-the-time-taken-by-the-worker-is-more-than-5-hours,-then-the-worker-has-to-leave-the-company.-If-the-time-taken-by-the-worker-is-input-through-the-keyboard,-find-the-efficiency-of-the-worker.\" data-toc-modified-id=\"14.-In-a-company,-worker-efficiency-is-determined-on-the-basis-of-the-time-required-for-a-worker-to-complete-a-particular-job.-If-the-time-taken-by-the-worker-is-between-2-–-3-hours,-then-the-worker-is-said-to-be-highly-efficient.-If-the-time-required-by-the-worker-is-between-3-–-4-hours,-then-the-worker-is-ordered-to-improve-speed.-If-the-time-taken-is-between-4-–-5-hours,-the-worker-is-given-training-to-improve-his-speed,-and-if-the-time-taken-by-the-worker-is-more-than-5-hours,-then-the-worker-has-to-leave-the-company.-If-the-time-taken-by-the-worker-is-input-through-the-keyboard,-find-the-efficiency-of-the-worker.-1.0.14\"><span class=\"toc-item-num\">1.0.14&nbsp;&nbsp;</span>14. In a company, worker efficiency is determined on the basis of the time required for a worker to complete a particular job. If the time taken by the worker is between 2 – 3 hours, then the worker is said to be highly efficient. If the time required by the worker is between 3 – 4 hours, then the worker is ordered to improve speed. If the time taken is between 4 – 5 hours, the worker is given training to improve his speed, and if the time taken by the worker is more than 5 hours, then the worker has to leave the company. If the time taken by the worker is input through the keyboard, find the efficiency of the worker.</a></span></li><li><span><a href=\"#15.-A-university-has-the-following-rules-for-a-student-to-qualify-for-a-degree-with-A-as-the-main-subject-and-B-as-the-subsidiary-subject:\" data-toc-modified-id=\"15.-A-university-has-the-following-rules-for-a-student-to-qualify-for-a-degree-with-A-as-the-main-subject-and-B-as-the-subsidiary-subject:-1.0.15\"><span class=\"toc-item-num\">1.0.15&nbsp;&nbsp;</span>15. A university has the following rules for a student to qualify for a degree with A as the main subject and B as the subsidiary subject:</a></span></li></ul></li></ul></li></ul></div>"
   ]
  },
  {
   "cell_type": "markdown",
   "metadata": {},
   "source": [
    "# Assignment 2"
   ]
  },
  {
   "cell_type": "markdown",
   "metadata": {},
   "source": [
    "##### Write Python Program for the following (include necessary exception handling wherever required):"
   ]
  },
  {
   "cell_type": "markdown",
   "metadata": {},
   "source": [
    "### 1. Prompt the user for a score between 0.0 and 1.0. If the score is out of range, print an error message. If the score is between 0.0 and 1.0, print a grade using the following table:"
   ]
  },
  {
   "cell_type": "code",
   "execution_count": 16,
   "metadata": {},
   "outputs": [
    {
     "name": "stdout",
     "output_type": "stream",
     "text": [
      "Enter score: -9\n",
      "Error! Score is out of range.\n"
     ]
    }
   ],
   "source": [
    "score = float(input(\"Enter score: \"))\n",
    "\n",
    "try:\n",
    "    if score >= 0.0 and score <= 1.0:\n",
    "    #print(\"Error.Score is out of range.\")\n",
    "        if score >= 0.9:\n",
    "            print(\"Grade A\")\n",
    "        elif score >= 0.8:\n",
    "            print(\"Grade B\")\n",
    "        elif score >= 0.7:\n",
    "            print(\"Grade C\")\n",
    "        elif score >= 0.6:\n",
    "            print(\"Grade D\")\n",
    "        elif score < 0.6:\n",
    "            print(\"Grade E\")\n",
    "    else:\n",
    "        print(\"Error! Score is out of range.\")\n",
    "except:\n",
    "    print(\"Error! Score is out of range.\")"
   ]
  },
  {
   "cell_type": "markdown",
   "metadata": {},
   "source": [
    "### 2. If cost price and selling price of an item is input through the keyboard, write a program to determine whether the seller has made profit or incurred loss. Also determine how much profit he made or loss he incurred."
   ]
  },
  {
   "cell_type": "code",
   "execution_count": 41,
   "metadata": {},
   "outputs": [
    {
     "name": "stdout",
     "output_type": "stream",
     "text": [
      "Enter Cost Price: 100\n",
      "Enter Selling Price: 6\n",
      "Seller has made a Loss.\n",
      "Loss: Rs. 94.0\n"
     ]
    }
   ],
   "source": [
    "CP = float(input(\"Enter Cost Price: \"))\n",
    "SP = float(input(\"Enter Selling Price: \"))\n",
    "\n",
    "try:\n",
    "    if SP >= 0.0 and CP >= 0.0:\n",
    "    #print(\"Error.Score is out of range.\")\n",
    "        if SP > CP:\n",
    "            print(\"Seller has made Profit.\")\n",
    "            profit = SP-CP # profit = selling price - cost price\n",
    "            print(\"Profit:\",\"Rs.\",profit)\n",
    "        elif SP < CP:\n",
    "            print(\"Seller has made a Loss.\")\n",
    "            loss = CP-SP\n",
    "            print(\"Loss:\",\"Rs.\",loss)\n",
    "    else:\n",
    "        print(\"Invalid entry.Try again.\")\n",
    "except:\n",
    "    print(\"Error! Score is out of range.\")"
   ]
  },
  {
   "cell_type": "markdown",
   "metadata": {},
   "source": [
    "### 3. Any year is input through the keyboard. Write a program to determine whether the year is a leap year or not."
   ]
  },
  {
   "cell_type": "code",
   "execution_count": 50,
   "metadata": {},
   "outputs": [
    {
     "name": "stdout",
     "output_type": "stream",
     "text": [
      "Enter Year: -8\n",
      "Wrong input. Try again.\n"
     ]
    }
   ],
   "source": [
    "year = int(input(\"Enter Year: \"))\n",
    "\n",
    "try:\n",
    "    if year > 999:\n",
    "        \n",
    "        if year % 400 == 0: # leap year is divisible by 400\n",
    "            print(year,\"is a Leap Year.\")\n",
    "        elif year % 4 == 0: # leap year is divisible by 4\n",
    "            print(year,\"is a Leap Year.\")\n",
    "        elif year % 100 == 0: # leap year is divisible by 100\n",
    "            print(year,\"is a Leap Year.\")\n",
    "        else:\n",
    "            print(year,\"is not a Leap Year.\")\n",
    "    else:\n",
    "        print(\"Wrong input. Try again.\")\n",
    "except:\n",
    "    print(\"Wrong input. Try again.\")"
   ]
  },
  {
   "cell_type": "markdown",
   "metadata": {},
   "source": [
    "### 4. A five-digit number is entered through the keyboard. Write a program to obtain the reversed number and to determine whether the original and reversed numbers are equal or not."
   ]
  },
  {
   "cell_type": "code",
   "execution_count": 66,
   "metadata": {},
   "outputs": [
    {
     "name": "stdout",
     "output_type": "stream",
     "text": [
      "Enter a 5 digit number: 12345\n",
      "Original number: 12345\n",
      "Reverse of number: 54321\n",
      "Number & its Reverse are not equal.\n"
     ]
    }
   ],
   "source": [
    "num = int(input(\"Enter a 5 digit number: \"))\n",
    "print(\"Original number:\", num)\n",
    "n = num # storing the number in another variable because we will do mathematical operations on num variable inside while loop to iterate through all digits\n",
    "reverse_num = 0\n",
    "\n",
    "while num>0:    \n",
    "    last_dig = num%10 #remainder = last dig\n",
    "    reverse_num = reverse_num*10 + last_dig\n",
    "    num = num//10 # to get new number without last digit\n",
    "    #print(last_dig)\n",
    "\n",
    "print(\"Reverse of number:\",reverse_num)\n",
    "\n",
    "if n == reverse_num:\n",
    "    print(\"Number & its Reverse are equal.\")\n",
    "else:\n",
    "    print(\"Number & its Reverse are not equal.\")"
   ]
  },
  {
   "cell_type": "markdown",
   "metadata": {},
   "source": [
    "### 5. If the ages of Ram, Shyam and Ajay are input through the keyboard, write a program to determine the youngest of the three."
   ]
  },
  {
   "cell_type": "code",
   "execution_count": 73,
   "metadata": {},
   "outputs": [
    {
     "name": "stdout",
     "output_type": "stream",
     "text": [
      "Enter Ram's age: 3\n",
      "Enter Shyam's age: 6\n",
      "Enter Ajay's age: 8\n",
      "Ram is the youngest.\n"
     ]
    }
   ],
   "source": [
    "ram = int(input(\"Enter Ram's age: \"))\n",
    "shyam = int(input(\"Enter Shyam's age: \"))\n",
    "ajay = int(input(\"Enter Ajay's age: \"))\n",
    "try:\n",
    "    if ram > 0 and shyam > 0 and ajay > 0:\n",
    "        \n",
    "        if ram < shyam and ram < ajay:\n",
    "            print(\"Ram is the youngest.\")\n",
    "        elif shyam < ram and shyam < ajay:\n",
    "            print(\"Shyam is the youngest.\")\n",
    "        elif ajay < ram and ajay < shyam:\n",
    "            print(\"Ajay is the youngest.\")\n",
    "        else: \n",
    "            print(\"Error! Enter correct age.\")\n",
    "    else:\n",
    "        print(\"Error! Enter correct age.\")\n",
    "except:\n",
    "    print(\"Error! Enter correct age.\")"
   ]
  },
  {
   "cell_type": "markdown",
   "metadata": {},
   "source": [
    "### 6. Write a program to check whether a triangle is valid or not, when the three angles of the triangle are entered through the keyboard. A triangle is valid if the sum of all the three angles is equal to 180 degrees."
   ]
  },
  {
   "cell_type": "code",
   "execution_count": 82,
   "metadata": {},
   "outputs": [
    {
     "name": "stdout",
     "output_type": "stream",
     "text": [
      "Enter Angle A: 300\n",
      "Enter Angle B: 5\n",
      "Enter Angle C: 0\n",
      "Triangle is invalid.\n"
     ]
    }
   ],
   "source": [
    "A = float(input(\"Enter Angle A: \"))\n",
    "B = float(input(\"Enter Angle B: \"))\n",
    "C = float(input(\"Enter Angle C: \"))\n",
    "\n",
    "try:\n",
    "    if A >= 0 and B >= 0 and C >= 0:\n",
    "        if A + B + C == 180:\n",
    "            print(\"Triangle is valid.\")\n",
    "        else:\n",
    "            print(\"Triangle is invalid.\")\n",
    "    else:\n",
    "        print(\"Angles should be positive.\")\n",
    "except:\n",
    "    print(\"Enter valid angles.\")"
   ]
  },
  {
   "cell_type": "markdown",
   "metadata": {},
   "source": [
    "### 7. Find the absolute value of a number entered through the keyboard."
   ]
  },
  {
   "cell_type": "code",
   "execution_count": 83,
   "metadata": {},
   "outputs": [
    {
     "name": "stdout",
     "output_type": "stream",
     "text": [
      "Enter number: -50.3\n",
      "Absolute value of given number:  50.3\n"
     ]
    }
   ],
   "source": [
    "num = float(input(\"Enter number: \"))\n",
    "abs_num = abs(num)\n",
    "\n",
    "print(\"Absolute value of given number: \",abs_num)"
   ]
  },
  {
   "cell_type": "markdown",
   "metadata": {},
   "source": [
    "### 8. Given three points (x1, y1), (x2, y2) and (x3, y3), write a program to check if all the three points fall on one straight line."
   ]
  },
  {
   "cell_type": "code",
   "execution_count": 164,
   "metadata": {},
   "outputs": [
    {
     "name": "stdout",
     "output_type": "stream",
     "text": [
      "Enter x1: 5\n",
      "Enter y1: 5\n",
      "Enter x2: 2\n",
      "Enter y2: 2\n",
      "Enter x3: 3\n",
      "Enter y3: 3\n",
      "All points lie on same line\n"
     ]
    }
   ],
   "source": [
    "# three co-ordinates fall on same line if slope of all points is same\n",
    "\n",
    "x1 = float(input(\"Enter x1: \"))\n",
    "y1 = float(input(\"Enter y1: \"))\n",
    "\n",
    "x2 = float(input(\"Enter x2: \"))\n",
    "y2 = float(input(\"Enter y2: \"))\n",
    "\n",
    "x3 = float(input(\"Enter x3: \"))\n",
    "y3 = float(input(\"Enter y3: \"))\n",
    "\n",
    "slope1 = (y2 - y1)/(x2 - x1) # formula for slope\n",
    "slope2 = (y3 - y2)/(x3 - x2) \n",
    "\n",
    "if (x2-x1) != 0 and (x3-x2) != 0:\n",
    "    if slope1 == slope2:\n",
    "        print(\"All points lie on same line\")\n",
    "    else:\n",
    "        print(\"Points not lie on same line\")\n",
    "else:\n",
    "    print(\"Slope not defined\")"
   ]
  },
  {
   "cell_type": "markdown",
   "metadata": {},
   "source": [
    "### 9. Given a point (x, y), write a program to find out if it lies on the x-axis, y-axis or at the origin, viz. (0, 0)."
   ]
  },
  {
   "cell_type": "code",
   "execution_count": 170,
   "metadata": {},
   "outputs": [
    {
     "name": "stdout",
     "output_type": "stream",
     "text": [
      "Enter x: 0\n",
      "Enter y: 0\n",
      "( 0.0 , 0.0 ) lie at the origin\n"
     ]
    }
   ],
   "source": [
    "x = float(input(\"Enter x: \"))\n",
    "y = float(input(\"Enter y: \"))\n",
    "\n",
    "if x == 0 and y != 0:\n",
    "    print(\"(\",x,\",\",y,\") lie on y axis\")\n",
    "elif y == 0 and x != 0:\n",
    "    print(\"(\",x,\",\",y,\") lie on x axis\")\n",
    "elif x == 0 and y == 0 :\n",
    "    print(\"(\",x,\",\",y,\") lie at the origin\")\n",
    "else:\n",
    "    print(\"(\",x,\",\",y,\") lie in x-y plane\")"
   ]
  },
  {
   "cell_type": "markdown",
   "metadata": {},
   "source": [
    "### 10. An Insurance company follows following rules to calculate premium: Write a program to output whether the person should be insured or not, his/her premium rate and maximum amount for which he/she can be insured."
   ]
  },
  {
   "cell_type": "markdown",
   "metadata": {},
   "source": [
    "a. If a person’s health is excellent and the person is between 25 and 35 years of age and lives in a city and is a male then the premium is Rs. 4 per thousand and his policy amount cannot exceed Rs. 2 lakhs.\n",
    "\n",
    "b. If a person satisfies all the above conditions except that the sex is female then\n",
    "the premium is Rs. 3 per thousand and her policy amount cannot exceed Rs. 1\n",
    "lakh.\n",
    "\n",
    "c. If a person’s health is poor and the person is between 25 and 35 years of age\n",
    "and lives in a village and is a male\n"
   ]
  },
  {
   "cell_type": "code",
   "execution_count": 113,
   "metadata": {},
   "outputs": [
    {
     "name": "stdout",
     "output_type": "stream",
     "text": [
      "Should be Insured\n",
      "Premium: Rs. 4 per thousand\n",
      "Maximum Policy amount: 200000\n"
     ]
    }
   ],
   "source": [
    "health = \"excellent\"\n",
    "age = 30\n",
    "\n",
    "place = \"City\"\n",
    "gender = \"Male\"\n",
    "\n",
    "try:\n",
    "    if health == \"excellent\" and age >= 25 and age <= 35 and place == \"City\":\n",
    "        if gender == \"Male\":\n",
    "            premium = 4\n",
    "            policy <= 200000\n",
    "            print(\"Should be Insured\")\n",
    "            print(\"Premium: Rs.\",premium,\"per thousand\" )\n",
    "            print(\"Maximum Policy amount:\", 200000)\n",
    "\n",
    "        elif gender == \"Female\":\n",
    "            premium = 3\n",
    "            policy <= 100000\n",
    "            print(\"Should be Insured\")\n",
    "            print(\"Premium: Rs.\",premium,\"per thousand\" )\n",
    "            print(\"Maximum Policy amount:\", 100000)\n",
    "        \n",
    "    if health == \"poor\" and age >= 25 and age <= 35 and place == \"Village\":\n",
    "        if gender == \"Male\":\n",
    "            print(\"Should be Insured\")\n",
    "except:\n",
    "    print(\"Invalid output\")"
   ]
  },
  {
   "cell_type": "markdown",
   "metadata": {},
   "source": [
    "### 11. A certain grade of steel is graded according to the following conditions:  Write a program, which will require the user to give values of hardness, carbon content and tensile strength of the steel under consideration and output the grade of the steel."
   ]
  },
  {
   "cell_type": "markdown",
   "metadata": {},
   "source": [
    "a. (i) Hardness must be greater than 50\n",
    "\n",
    "b. (ii) Carbon content must be less than 0.7\n",
    "\n",
    "c. (iii) Tensile strength must be greater than 5600\n",
    "\n",
    "The grades are as follows:\n",
    "\n",
    "Grade is 10 if all three conditions are met\n",
    "\n",
    "Grade is 9 if conditions (i) and (ii) are met\n",
    "\n",
    "Grade is 8 if conditions (ii) and (iii) are met\n",
    "\n",
    "Grade is 7 if conditions (i) and (iii) are met\n",
    "\n",
    "Grade is 6 if only one condition is met\n",
    "\n",
    "Grade is 5 if none of the conditions are met"
   ]
  },
  {
   "cell_type": "code",
   "execution_count": 120,
   "metadata": {},
   "outputs": [
    {
     "name": "stdout",
     "output_type": "stream",
     "text": [
      "Enter hardness: 52\n",
      "Enter carbon content: 05\n",
      "Enter tensile strength: 0\n",
      "Grade:  6\n"
     ]
    }
   ],
   "source": [
    "hardness = int(input(\"Enter hardness: \"))\n",
    "carbon = float(input(\"Enter carbon content: \"))\n",
    "strength = int(input(\"Enter tensile strength: \"))\n",
    "\n",
    "if hardness > 50 and carbon < 0.7 and strength > 5600:\n",
    "    print(\"Grade: \",10)\n",
    "elif hardness > 50 and carbon < 0.7:\n",
    "    print(\"Grade: \",9)\n",
    "elif strength > 5600 and carbon < 0.7:\n",
    "    print(\"Grade: \",8)\n",
    "elif hardness > 50 and strength > 5600:\n",
    "    print(\"Grade: \",7)\n",
    "elif hardness > 50 or carbon < 0.7 or strength > 5600:\n",
    "    print(\"Grade: \",6)\n",
    "elif hardness < 50 or carbon > 0.7 or strength < 5600:\n",
    "    print(\"Grade: \",5)\n",
    "\n"
   ]
  },
  {
   "cell_type": "markdown",
   "metadata": {},
   "source": [
    "### 12. A library charges a fine for every book returned late. For first 5 days the fine is 50 paise, for 6-10 days fine is one rupee and above 10 days fine is 5 rupees. If you return the book after 30 days your membership will be cancelled. Write a program to accept the number of days the member is late to return the book and display the fine or the appropriate message."
   ]
  },
  {
   "cell_type": "code",
   "execution_count": 126,
   "metadata": {},
   "outputs": [
    {
     "name": "stdout",
     "output_type": "stream",
     "text": [
      "Enter number of days return is late: 32\n",
      "Your membership is cancelled!\n"
     ]
    }
   ],
   "source": [
    "days = int(input(\"Enter number of days return is late: \"))\n",
    "\n",
    "fine = 0\n",
    "if days == 5:\n",
    "    fine_p = 50\n",
    "    print(\"Fine: \",fine_p,\"paise\")\n",
    "elif days >=6 and days <=10:\n",
    "    fine_p = 100 # in paise\n",
    "    print(\"Fine: \",fine_p/100,\"Rupees\")\n",
    "elif days >10 and days <=30:\n",
    "    fine_p = 500 # in paise\n",
    "    print(\"Fine: \",fine_p/100,\"Rupees\")\n",
    "elif days >30:\n",
    "    print(\"Your membership is cancelled!\")\n"
   ]
  },
  {
   "cell_type": "markdown",
   "metadata": {},
   "source": [
    "### 13. The policy followed by a company to process customer orders is given by the following rules:\n",
    "a. If a customer order is less than or equal to that in stock and has credit is OK,\n",
    "supply has requirement.\n",
    "\n",
    "b. If has credit is not OK do not supply. Send him intimation.\n",
    "\n",
    "c. If has credit is Ok but the item in stock is less than has order, supply what is in stock. \n",
    "\n",
    "Intimate to him data the balance will be shipped. Write a program to implement the company policy."
   ]
  },
  {
   "cell_type": "code",
   "execution_count": 137,
   "metadata": {},
   "outputs": [
    {
     "name": "stdout",
     "output_type": "stream",
     "text": [
      "Invalid\n"
     ]
    }
   ],
   "source": [
    "order = 100\n",
    "stock = 50\n",
    "credit = \"ok\"\n",
    "\n",
    "if order <= stock and credit == \"OK\":\n",
    "    print(\"Supply has requirement.\")\n",
    "elif credit == \"Not OK\":\n",
    "    print(\"Credit is not OK. We cannot supply.\")\n",
    "elif order > stock and credit == \"OK\":\n",
    "    print(\"Stock is less, only amount:\",stock, \"can be shipped.\")\n",
    "else:\n",
    "    print(\"Invalid\")\n",
    "\n",
    "    "
   ]
  },
  {
   "cell_type": "markdown",
   "metadata": {},
   "source": [
    "### 14. In a company, worker efficiency is determined on the basis of the time required for a worker to complete a particular job. If the time taken by the worker is between 2 – 3 hours, then the worker is said to be highly efficient. If the time required by the worker is between 3 – 4 hours, then the worker is ordered to improve speed. If the time taken is between 4 – 5 hours, the worker is given training to improve his speed, and if the time taken by the worker is more than 5 hours, then the worker has to leave the company. If the time taken by the worker is input through the keyboard, find the efficiency of the worker."
   ]
  },
  {
   "cell_type": "code",
   "execution_count": 146,
   "metadata": {},
   "outputs": [
    {
     "name": "stdout",
     "output_type": "stream",
     "text": [
      "Enter number of hours worked: 5\n",
      "Training will be given to improve speed\n"
     ]
    }
   ],
   "source": [
    "time = int(input(\"Enter number of hours worked: \"))\n",
    "\n",
    "\n",
    "if time >0:\n",
    "    if time >=2 and time <= 3:\n",
    "        print(\"Worker is highly efficient\")\n",
    "    elif time >=3 and time <= 4:\n",
    "        print(\"Worker has to improve speed\")\n",
    "    elif time >=4 and time <= 5:\n",
    "        print(\"Training will be given to improve speed\")\n",
    "    elif time > 5:\n",
    "        print(\"Worker has to leave the company\")\n",
    "else:\n",
    "    print(\"Invalid entry. Number of hours should be positive.\")\n"
   ]
  },
  {
   "cell_type": "markdown",
   "metadata": {},
   "source": [
    "### 15. A university has the following rules for a student to qualify for a degree with A as the main subject and B as the subsidiary subject:\n",
    "\n",
    "a. He should get 55 percent or more in A and 45 percent or more in B.\n",
    "\n",
    "b. If he gets less than 55 percent in A he should get 55 percent or more in B. However,\n",
    "he should get at least 45 percent in A.\n",
    "\n",
    "c. If he gets less than 45 percent in B and 65 percent or more in A he is allowed to\n",
    "reappear in an examination in B to qualify.\n",
    "\n",
    "d. In all other cases he is declared to have failed.\n",
    "\n",
    "Write a program to receive marks in A and B and Output whether the student has passed, failed or is allowed to reappear in B."
   ]
  },
  {
   "cell_type": "code",
   "execution_count": 157,
   "metadata": {},
   "outputs": [
    {
     "name": "stdout",
     "output_type": "stream",
     "text": [
      "Enter marks received in A: 50\n",
      "Enter marks received in B: 65\n",
      "Pass\n"
     ]
    }
   ],
   "source": [
    "A = float(input(\"Enter marks received in A: \"))\n",
    "B = float(input(\"Enter marks received in B: \"))\n",
    "\n",
    "\n",
    "if A <=100 and B <=100:\n",
    "    if A >= 45 and B >= 45:\n",
    "        print(\"Pass\")\n",
    "    elif A >= 45 and B >= 55 and A < 55:\n",
    "        print(\"Pass\")\n",
    "    elif B < 45 and A >= 65:\n",
    "        print(\"Reappear in B to qualify\")\n",
    "    else:\n",
    "        print(\"Fail\")\n",
    "else:\n",
    "    print(\"Marks should be <= 100\")"
   ]
  }
 ],
 "metadata": {
  "kernelspec": {
   "display_name": "Python 3",
   "language": "python",
   "name": "python3"
  },
  "language_info": {
   "codemirror_mode": {
    "name": "ipython",
    "version": 3
   },
   "file_extension": ".py",
   "mimetype": "text/x-python",
   "name": "python",
   "nbconvert_exporter": "python",
   "pygments_lexer": "ipython3",
   "version": "3.8.3"
  },
  "toc": {
   "base_numbering": 1,
   "nav_menu": {},
   "number_sections": true,
   "sideBar": true,
   "skip_h1_title": false,
   "title_cell": "Table of Contents",
   "title_sidebar": "Contents",
   "toc_cell": true,
   "toc_position": {},
   "toc_section_display": true,
   "toc_window_display": true
  },
  "varInspector": {
   "cols": {
    "lenName": 16,
    "lenType": 16,
    "lenVar": 40
   },
   "kernels_config": {
    "python": {
     "delete_cmd_postfix": "",
     "delete_cmd_prefix": "del ",
     "library": "var_list.py",
     "varRefreshCmd": "print(var_dic_list())"
    },
    "r": {
     "delete_cmd_postfix": ") ",
     "delete_cmd_prefix": "rm(",
     "library": "var_list.r",
     "varRefreshCmd": "cat(var_dic_list()) "
    }
   },
   "types_to_exclude": [
    "module",
    "function",
    "builtin_function_or_method",
    "instance",
    "_Feature"
   ],
   "window_display": false
  }
 },
 "nbformat": 4,
 "nbformat_minor": 4
}
